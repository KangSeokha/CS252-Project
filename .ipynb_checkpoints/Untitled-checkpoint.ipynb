{
 "cells": [
  {
   "cell_type": "code",
   "execution_count": 1,
   "id": "58bc325f",
   "metadata": {
    "scrolled": true
   },
   "outputs": [
    {
     "name": "stdout",
     "output_type": "stream",
     "text": [
      "!\"#$%&'()*+,-./:;<=>?@[\\]^_`{|}~\n",
      "{'somewhat', 'unless', 'effect', \"hasn't\", 'dt', 'best', 'she', 'xo', 'dp', \"they'd\", 'ibid', \"mustn't\", 'consider', 'section', 'fill', 'ignored', \"we'd\", 'whos', 'been', 'off', 'ii', 'that', 'i4', 'themselves', 'nay', \"i've\", 'where', 'the', 'tr', 'largely', 'pn', \"shouldn't\", 'pc', \"won't\", 'av', 'towards', 'ups', 'see', 'causes', '[', 'according', 'ix', 'yourselves', 'happens', 'done', 'went', 'out', 'though', 'full', 'there', 'perhaps', 'has', 'for', 'im', 'pt', 'ut', 'wants', 'million', \"he's\", 'cg', 'fj', \"we've\", 'him', 'tries', 'youre', 'myself', 'took', 'sd', 't1', 'allows', 'previously', 'd', 'above', 'werent', 'ca', 'everywhere', 'fc', 'greetings', 'shan', 'fifth', 'regards', 'amount', 'third', '?', 'thered', 'xx', 'instead', 'xs', 'ok', 'were', 'oj', 'i7', 'rf', 'research-articl', 'tried', 'aw', 'empty', 'theres', 'affected', 'maybe', 'by', 'past', 'herself', 'nd', 'therefore', 'anywhere', 'ib', 'two', 'affecting', 'wouldn', 'around', 'fix', 'somewhere', 'usefully', 'am', 'ask', 'anyone', 'ui', 'h', \"isn't\", 'especially', 'qu', 'thereafter', 'bu', 'plus', 'ltd', 'cn', 'showed', 'ft', 'noone', \"it'll\", 'asking', 'self', 'giving', 'thin', \"let's\", 'pd', 'onto', 'vj', 'mustn', \"mightn't\", 'else', 'over', 'indicated', 'fire', 'ma', 'sorry', \"that'll\", 'arent', 'l', 'substantially', 'ij', 'mn', 'better', 'sl', 'under', 'before', '(', 'x1', 'ow', 'uj', 'thoroughly', \"you'd\", 'hed', \"'\", 'information', 'ss', 'entirely', 'ct', 'bk', 'in', 'b2', 'uk', 'such', 'given', 'same', 'few', 'ninety', 'several', 'present', 'i6', 'oc', 'tq', 'p2', \"he'll\", 'whats', 'pr', \"wouldn't\", 'likely', 'pf', 'know', 'could', 'similar', 'after', 'follows', 'relatively', 'because', 'while', 'vt', 'a4', 'have', 'who', 'another', 'tv', 'ever', 'u', 'aren', 'indicates', 'more', 'y', 'sent', 'dd', 'nl', 'move', 'similarly', 'cd', 'couldn', 'than', 'invention', 'q', 'ao', 'cv', 'thanks', 'reasonably', 'various', 'xt', 'ex', 'himself', 'eq', 'accordance', 'significantly', 'couldnt', 'neither', 'sa', 'volumtype', 'kg', 'call', 'words', 'followed', 'own', 'hello', '&', 'an', 'beside', \"it'd\", 'widely', 'along', 'eo', 'zero', 'hence', 'anyway', 'together', 'pp', 'they', 'into', 'mine', 'specifying', \"why's\", 'gi', 'ps', 'x', ':', 'em', 'pu', 'rr', 'si', 'of', 'upon', 'ourselves', 'somehow', 'unto', 'five', 'far', 'about', 'twenty', 'once', 'immediately', 'et-al', 'apparently', 'promptly', 'whether', 'ce', 'adj', 'du', 'fy', 'lately', 'presumably', 'somebody', 'thou', 'latter', \"c'mon\", 'whole', 'cz', 'said', 'secondly', 'results', 'v', 'et', 'um', 'dr', 'me', 'date', 'almost', 'iz', 'od', 'are', 'cannot', \"i'll\", \"wasn't\", 'sn', 've', \"weren't\", 'hh', 'able', 'provides', 'ju', 'sup', 'bt', 'indeed', 'fl', \"couldn't\", \"i'd\", 'thousand', 'meanwhile', 'regarding', 'through', 'tf', 'clearly', 'mightn', 'why', 'away', 'latterly', \"they've\", 'meantime', 'pm', 'really', 'hi', 'sub', 'd2', 'miss', 'namely', 'yourself', 'right', '_', ',', 'throughout', 'would', 'o', 'us', 'below', 'amoungst', 'near', 'mill', \"didn't\", 'wont', 'appropriate', 'dj', 'sy', 'theirs', 'think', 'tt', 'xv', \"t's\", 'every', 'los', 'se', 'm', 'bd', 'sec', 'take', 'further', 'begins', 'seen', 'youd', 'predominantly', 'arise', 'sp', 'whence', 'no', 'fo', 'be', 'means', 'looks', 'brief', 'un', 'a2', 'rv', 'these', 'four', 'becoming', 'vols', 't2', 'fify', 'front', 'everybody', '`', 'oi', 'ri', 'itself', 'hereupon', 'gs', 'however', 'specifically', 'aside', 'ge', 'knows', 'id', 'cq', 'ones', 'hasnt', 'bill', 'need', 'bp', 'viz', 'sincere', 'needn', '{', 'cc', 'sm', 'lt', 'first', 'yt', 'oo', 'hundred', 'way', 'among', \"should've\", 'potentially', 'show', 'amongst', 'little', 'trying', 'them', 'ci', 'va', 'just', 'mostly', 'oh', 'ra', 'mt', 'kj', \"she'd\", \"there'll\", \"she'll\", 'theyre', 'dc', 'announce', 'its', 'til', 'obviously', 'eleven', 'f', 'former', 'then', 'xf', 'yes', 'seriously', 'yr', 'shall', 're', 'wasn', 'p', 'thank', 'necessary', 'allow', 'against', ';', 'eight', 'back', 'howbeit', 'a1', 'their', 'or', 'thorough', '0o', 'from', 'very', 'anyhow', 'nor', 'ro', 'alone', 'certainly', 'thoughh', 'unfortunately', 'index', 'thanx', 'whomever', 'is', 'p3', 'came', '6b', 'anybody', 'contain', 's', \"what'll\", 'unlikely', 'nine', 'tx', 'ep', '@', 'shouldn', 'f2', 'unlike', 'hid', '*', 'regardless', 'ea', \"shan't\", 'sure', 'approximately', 'par', 'sf', 'dk', 'anyways', 'lj', 'even', 'og', 'so', 'es', \"when's\", 'rj', 'since', 'currently', 'detail', 'rm', 'ih', '<', 'but', 'pi', 'twelve', 'between', 'hasn', 'available', 'eighty', 'inasmuch', 'may', 'shows', '~', 'beginnings', 'might', 'next', \"needn't\", \"she's\", 'give', \"they'll\", 'others', 'con', \"don't\", 'nowhere', 'whither', 'de', 'if', 'here', 'cl', 'thru', 'containing', 'bn', 'ay', 'i', 'until', 'showns', 'tends', 'ff', 'didn', 'on', 'sometime', 'ny', 'goes', 'ke', 'ga', 'behind', 'pages', 'qj', '0s', 'resulted', \"you've\", 'whereas', 'mean', 'rh', 'was', 'will', 'certain', 'immediate', 'per', \"we're\", 'est', 'ys', 'liked', 'considering', '$', 'inward', 'ur', 'bottom', 'significant', \"there's\", 'eu', 'also', 'obtained', 'saying', 'usefulness', 'do', 'owing', 'zz', 'cx', 'la', 'appreciate', 'td', 'changes', 'ba', 'rl', 'nobody', 'page', 'br', \"here's\", 'come', 'les', 'ic', 'six', 'hopefully', 'xk', 'ours', 'possible', 'normally', 'enough', 'later', 'b', 'bs', 'whose', 'you', 'yj', 'except', 'ax', 'different', 'e3', 'bj', \"you're\", 'bc', 'wish', 'c2', 't3', '/', 'besides', 'proud', \"can't\", 'rs', 'therein', 'di', 'www', 'itd', 'om', 'ir', 'isn', 'resulting', 'x3', 'put', 'e', 'ho', 'tj', 'suggest', 'being', 'indicate', 'let', 'xi', 'now', 'primarily', 'both', 'does', \"who's\", 'cit', '%', 'doing', 'thickv', 't', 'used', 'ms', 'it', 'rather', 'il', 'a', 'ten', 'help', \"he'd\", 'thereto', 'sufficiently', 'seven', '=', 'mrs', 'corresponding', 'ef', 'biol', 'tm', 'tl', 'described', 'ag', '^', 'ru', 'try', 'ref', 'yl', \"it's\", 'ej', 'research', 'slightly', 'how', 'au', '3d', 'beyond', 'xl', 's2', 'willing', 'ac', 'mu', 'want', 'nevertheless', 'hither', \"there've\", 'either', 'j', 'already', 'often', 'go', 'within', '6o', 'bx', 'related', 'oz', 'y2', 'wherever', 'make', 'getting', 'only', 'pe', 'pq', 'fr', 'example', 'cr', 'seems', 'wi', 'look', 'specify', 'ng', 'less', 'ln', 'taking', 'st', 'least', 'serious', 'z', 'n', 'other', 'ought', 'outside', 'actually', 'whereupon', 'hes', 'forth', 'gave', 'rq', 'b1', 'poorly', 'otherwise', 'pagecount', 'gives', 'vol', 'accordingly', 'ph', 'ad', 'gr', 'old', 'twice', 'something', 'zi', 'recently', 'lb', 'jr', 'th', 'believe', 'ey', 'this', 'fs', 'w', 'nc', 'm2', 'always', 'km', 'cj', 'hu', 'found', 'wherein', 'won', 'mainly', 'wasnt', 'que', 'home', 'h3', 'cry', 'shes', 'should', 'as', 'shown', 'le', 'ry', 'insofar', 'affects', 'hardly', 'when', 'aj', 'lf', 'name', 'eg', 'auth', 'beginning', 'whoever', 'el', 'nn', 'did', 'tp', 'apart', 'thus', 'placed', 'tn', 'sometimes', 'u201d', 'he', 'novel', 'vd', 'whenever', 'fu', 'specified', 'fn', 'dx', 'rd', 'exactly', 'dy', 'which', 'herein', 'ah', 'wonder', 'nr', 'usually', 'ap', 'elsewhere', 'soon', 'second', 'someone', 'e2', 'toward', 'wo', 'cm', 'please', 'associated', 'en', 'selves', 'cause', 'act', '.', 'vu', '\\\\', 'hereby', 'com', 'one', 'noted', 'some', 'hereafter', 'respectively', 'any', 'end', 'find', 'nos', 'ae', 'everything', 'sz', 'can', 'awfully', 'becomes', 'i3', 'stop', 'c', 'tb', 'af', 'ue', 'pl', 'ev', 'at', 'line', 'nothing', 'particular', 'recent', 'again', 'iq', 'quite', 'lets', '>', 'lc', 'non', 'anything', \"hadn't\", 'omitted', 'c1', 'wouldnt', 'ia', 'seemed', 'abst', 'hy', 'never', 'nearly', 'those', 'well', 'value', \"doesn't\", 'strongly', 'ob', 'oq', 'edu', ')', 'most', 'py', 'wheres', 'i2', 'l2', 'te', 'vs', 'must', 'na', 'gy', 'down', 'http', 'ie', 'fa', 'although', 'b3', 'ol', \"aren't\", 'ls', 'po', 'tip', 'gotten', '\"', 'much', 'uses', 'jt', '+', 'haven', 'xn', 'doesn', 'thereof', 'bl', 'cp', 'makes', 'appear', 'df', 'still', 'sc', 'particularly', 'whod', \"where's\", 'thats', 'a3', 'nj', 'begin', 'ord', 'say', 'n2', 'r', '}', 'ei', \"we'll\", 'had', 'ed', '-', 'gets', 'three', 'and', 'whom', 'comes', 'sixty', 'dl', 'co', \"a's\", 'fifteen', 'i8', 'made', '|', 'ot', 'p1', 'c3', 'sq', 'weren', 'gone', \"haven't\", 'what', 'became', 'lr', 'hj', ']', 'keeps', 'having', 'none', 'last', 'ox', 'mr', 'sj', \"how's\", 'necessarily', 'mg', 'mo', '3b', 'cu', 'his', 'inc', 'hs', \"that's\", 'etc', 'seeming', 'afterwards', \"what's\", 'lo', 'ou', 'saw', 'whim', 'hadn', 'new', 'therere', 'system', 'ending', 'to', 'wa', 'world', 'says', 'er', 'thereby', 'ch', 'ns', 'somethan', 'many', 'g', 'os', 'pk', 'furthermore', 'formerly', 'io', 'da', 'forty', 'ran', 'known', 'following', 'iy', 'top', 'rn', 'seem', 'importance', 'using', 'moreover', 'll', 'okay', \"i'm\", 'tc', 'interest', 'cf', 'yet', 'well-b', 'nt', 'everyone', 'ts', 'possibly', 'lest', 'going', 'use', 'whatever', 'during', \"that've\", \"you'll\", 'hr', 'keep', 'yours', 'we', 'wed', 'ain', \"c's\", 'become', '#', 'like', 'sr', 'up', 'beforehand', 'fi', 'her', 'k', 'gl', 'ab', 'hers', 'probably', 'needs', 'all', 'theyd', 'run', 'each', 'uo', 'shed', 'jj', 'ne', 'ig', 'inner', 'too', 'thereupon', 'op', 'h2', 'course', 'anymore', 'without', 'ar', 'readily', 'my', 'not', 'briefly', 'pj', 'cant', 'qv', 'ni', 'x2', \"they're\", 'ti', 'rt', 'quickly', 'vq', 'al', 'ee', 'part', 'with', 'successfully', 'refs', 'taken', 'js', 'cs', 'concerning', 'obtain', 'ko', 'useful', 'ip', 'sensible', 'don', 'pas', 'added', 'r2', 'az', 'iv', 'seeing', 'merely', \"ain't\", 'got', 'despite', 'your', 'throug', 'ml', 'truly', 'mug', 'vo', 'oa', 'important', '3a', '!', 'due', 'overall', 'welcome', 'ec', \"who'll\", 'via', 'looking', 'across', 'get', 'thence', 'our', 'xj', 'bi', 'describe', 'downwards', 'side', 'ds', 'heres', 'definitely', 'nonetheless', 'cy', 'rc', 'whereafter', 'gj', 'whereby', 'consequently', 'contains', 'tell', 'kept'}\n"
     ]
    },
    {
     "name": "stderr",
     "output_type": "stream",
     "text": [
      "[nltk_data] Downloading package punkt to /Users/kang/nltk_data...\n",
      "[nltk_data]   Package punkt is already up-to-date!\n"
     ]
    }
   ],
   "source": [
    "import json\n",
    "import pandas as pd\n",
    "from nltk.corpus import stopwords\n",
    "from nltk.tokenize import word_tokenize\n",
    "import nltk\n",
    "import requests\n",
    "from string import punctuation\n",
    "stopwords_list = requests.get(\"https://gist.githubusercontent.com/rg089/35e00abf8941d72d419224cfd5b5925d/raw/12d899b70156fd0041fa9778d657330b024b959c/stopwords.txt\").content\n",
    "stop_words = set(stopwords_list.decode().splitlines()) \n",
    "\n",
    "nltk.download('punkt')\n",
    "print(punctuation)\n",
    "stop_words = stop_words.union(set(punctuation))\n",
    "print(stop_words)\n",
    "# nltk.download('stopwords')\n",
    "# stop_words = set(stopwords.words('english'))"
   ]
  },
  {
   "cell_type": "code",
   "execution_count": 2,
   "id": "be9bd14c",
   "metadata": {},
   "outputs": [
    {
     "name": "stderr",
     "output_type": "stream",
     "text": [
      "IOPub data rate exceeded.\n",
      "The notebook server will temporarily stop sending output\n",
      "to the client in order to avoid crashing it.\n",
      "To change this limit, set the config variable\n",
      "`--NotebookApp.iopub_data_rate_limit`.\n",
      "\n",
      "Current values:\n",
      "NotebookApp.iopub_data_rate_limit=1000000.0 (bytes/sec)\n",
      "NotebookApp.rate_limit_window=3.0 (secs)\n",
      "\n"
     ]
    }
   ],
   "source": [
    "data = []\n",
    "with open('News_Category_Dataset_v3.json', 'r') as f:\n",
    "    for line in f:\n",
    "        data.append(json.loads(line))\n",
    "\n",
    "print(data)"
   ]
  },
  {
   "cell_type": "code",
   "execution_count": 3,
   "id": "b624f368",
   "metadata": {},
   "outputs": [],
   "source": [
    "# df = pd.read_json('News_Category_Dataset_v3.json')\n",
    "df = pd.DataFrame(data)"
   ]
  },
  {
   "cell_type": "code",
   "execution_count": 4,
   "id": "51ac010a",
   "metadata": {},
   "outputs": [
    {
     "name": "stdout",
     "output_type": "stream",
     "text": [
      "                                                     link  \\\n",
      "0       https://www.huffpost.com/entry/covid-boosters-...   \n",
      "1       https://www.huffpost.com/entry/american-airlin...   \n",
      "2       https://www.huffpost.com/entry/funniest-tweets...   \n",
      "3       https://www.huffpost.com/entry/funniest-parent...   \n",
      "4       https://www.huffpost.com/entry/amy-cooper-lose...   \n",
      "...                                                   ...   \n",
      "209522  https://www.huffingtonpost.com/entry/rim-ceo-t...   \n",
      "209523  https://www.huffingtonpost.com/entry/maria-sha...   \n",
      "209524  https://www.huffingtonpost.com/entry/super-bow...   \n",
      "209525  https://www.huffingtonpost.com/entry/aldon-smi...   \n",
      "209526  https://www.huffingtonpost.com/entry/dwight-ho...   \n",
      "\n",
      "                                                 headline   category  \\\n",
      "0       Over 4 Million Americans Roll Up Sleeves For O...  U.S. NEWS   \n",
      "1       American Airlines Flyer Charged, Banned For Li...  U.S. NEWS   \n",
      "2       23 Of The Funniest Tweets About Cats And Dogs ...     COMEDY   \n",
      "3       The Funniest Tweets From Parents This Week (Se...  PARENTING   \n",
      "4       Woman Who Called Cops On Black Bird-Watcher Lo...  U.S. NEWS   \n",
      "...                                                   ...        ...   \n",
      "209522  RIM CEO Thorsten Heins' 'Significant' Plans Fo...       TECH   \n",
      "209523  Maria Sharapova Stunned By Victoria Azarenka I...     SPORTS   \n",
      "209524  Giants Over Patriots, Jets Over Colts Among  M...     SPORTS   \n",
      "209525  Aldon Smith Arrested: 49ers Linebacker Busted ...     SPORTS   \n",
      "209526  Dwight Howard Rips Teammates After Magic Loss ...     SPORTS   \n",
      "\n",
      "                                        short_description  \\\n",
      "0       Health experts said it is too early to predict...   \n",
      "1       He was subdued by passengers and crew when he ...   \n",
      "2       \"Until you have a dog you don't understand wha...   \n",
      "3       \"Accidentally put grown-up toothpaste on my to...   \n",
      "4       Amy Cooper accused investment firm Franklin Te...   \n",
      "...                                                   ...   \n",
      "209522  Verizon Wireless and AT&T are already promotin...   \n",
      "209523  Afterward, Azarenka, more effusive with the pr...   \n",
      "209524  Leading up to Super Bowl XLVI, the most talked...   \n",
      "209525  CORRECTION: An earlier version of this story i...   \n",
      "209526  The five-time all-star center tore into his te...   \n",
      "\n",
      "                     authors        date  \n",
      "0       Carla K. Johnson, AP  2022-09-23  \n",
      "1             Mary Papenfuss  2022-09-23  \n",
      "2              Elyse Wanshel  2022-09-23  \n",
      "3           Caroline Bologna  2022-09-23  \n",
      "4             Nina Golgowski  2022-09-22  \n",
      "...                      ...         ...  \n",
      "209522      Reuters, Reuters  2012-01-28  \n",
      "209523                        2012-01-28  \n",
      "209524                        2012-01-28  \n",
      "209525                        2012-01-28  \n",
      "209526                        2012-01-28  \n",
      "\n",
      "[209527 rows x 6 columns]\n"
     ]
    }
   ],
   "source": [
    "print(df)"
   ]
  },
  {
   "cell_type": "code",
   "execution_count": 5,
   "id": "69461883",
   "metadata": {},
   "outputs": [
    {
     "name": "stdout",
     "output_type": "stream",
     "text": [
      "['U.S. NEWS' 'COMEDY' 'PARENTING' 'WORLD NEWS' 'CULTURE & ARTS' 'TECH'\n",
      " 'SPORTS' 'ENTERTAINMENT' 'POLITICS' 'WEIRD NEWS' 'ENVIRONMENT'\n",
      " 'EDUCATION' 'CRIME' 'SCIENCE' 'WELLNESS' 'BUSINESS' 'STYLE & BEAUTY'\n",
      " 'FOOD & DRINK' 'MEDIA' 'QUEER VOICES' 'HOME & LIVING' 'WOMEN'\n",
      " 'BLACK VOICES' 'TRAVEL' 'MONEY' 'RELIGION' 'LATINO VOICES' 'IMPACT'\n",
      " 'WEDDINGS' 'COLLEGE' 'PARENTS' 'ARTS & CULTURE' 'STYLE' 'GREEN' 'TASTE'\n",
      " 'HEALTHY LIVING' 'THE WORLDPOST' 'GOOD NEWS' 'WORLDPOST' 'FIFTY' 'ARTS'\n",
      " 'DIVORCE']\n"
     ]
    }
   ],
   "source": [
    "distinct_values = df['category'].unique()\n",
    "\n",
    "print(distinct_values)"
   ]
  },
  {
   "cell_type": "code",
   "execution_count": 6,
   "id": "1e9f877b",
   "metadata": {},
   "outputs": [],
   "source": [
    "# stop words\n",
    "# tokenize\n",
    "# machine learning\n",
    "# ..."
   ]
  },
  {
   "cell_type": "code",
   "execution_count": 7,
   "id": "e1d389d4",
   "metadata": {},
   "outputs": [],
   "source": [
    "df['headline'] = df['headline'].str.lower()\n",
    "df['headline_tokenized'] = df['headline'].apply(word_tokenize)"
   ]
  },
  {
   "cell_type": "code",
   "execution_count": 8,
   "id": "a5afb4ba",
   "metadata": {},
   "outputs": [
    {
     "data": {
      "text/plain": [
       "0         [Health, experts, said, it, is, too, early, to...\n",
       "1         [He, was, subdued, by, passengers, and, crew, ...\n",
       "2         [\"Until, you, have, a, dog, you, don't, unders...\n",
       "3         [\"Accidentally, put, grown-up, toothpaste, on,...\n",
       "4         [Amy, Cooper, accused, investment, firm, Frank...\n",
       "                                ...                        \n",
       "209522    [Verizon, Wireless, and, AT&T, are, already, p...\n",
       "209523    [Afterward,, Azarenka,, more, effusive, with, ...\n",
       "209524    [Leading, up, to, Super, Bowl, XLVI,, the, mos...\n",
       "209525    [CORRECTION:, An, earlier, version, of, this, ...\n",
       "209526    [The, five-time, all-star, center, tore, into,...\n",
       "Name: short_description, Length: 209527, dtype: object"
      ]
     },
     "execution_count": 8,
     "metadata": {},
     "output_type": "execute_result"
    }
   ],
   "source": [
    "df['short_description'].str.split()"
   ]
  },
  {
   "cell_type": "code",
   "execution_count": 9,
   "id": "550f563d",
   "metadata": {},
   "outputs": [
    {
     "name": "stdout",
     "output_type": "stream",
     "text": [
      "                                                     link  \\\n",
      "0       https://www.huffpost.com/entry/covid-boosters-...   \n",
      "1       https://www.huffpost.com/entry/american-airlin...   \n",
      "2       https://www.huffpost.com/entry/funniest-tweets...   \n",
      "3       https://www.huffpost.com/entry/funniest-parent...   \n",
      "4       https://www.huffpost.com/entry/amy-cooper-lose...   \n",
      "...                                                   ...   \n",
      "209522  https://www.huffingtonpost.com/entry/rim-ceo-t...   \n",
      "209523  https://www.huffingtonpost.com/entry/maria-sha...   \n",
      "209524  https://www.huffingtonpost.com/entry/super-bow...   \n",
      "209525  https://www.huffingtonpost.com/entry/aldon-smi...   \n",
      "209526  https://www.huffingtonpost.com/entry/dwight-ho...   \n",
      "\n",
      "                                                 headline   category  \\\n",
      "0       over 4 million americans roll up sleeves for o...  U.S. NEWS   \n",
      "1       american airlines flyer charged, banned for li...  U.S. NEWS   \n",
      "2       23 of the funniest tweets about cats and dogs ...     COMEDY   \n",
      "3       the funniest tweets from parents this week (se...  PARENTING   \n",
      "4       woman who called cops on black bird-watcher lo...  U.S. NEWS   \n",
      "...                                                   ...        ...   \n",
      "209522  rim ceo thorsten heins' 'significant' plans fo...       TECH   \n",
      "209523  maria sharapova stunned by victoria azarenka i...     SPORTS   \n",
      "209524  giants over patriots, jets over colts among  m...     SPORTS   \n",
      "209525  aldon smith arrested: 49ers linebacker busted ...     SPORTS   \n",
      "209526  dwight howard rips teammates after magic loss ...     SPORTS   \n",
      "\n",
      "                                        short_description  \\\n",
      "0       Health experts said it is too early to predict...   \n",
      "1       He was subdued by passengers and crew when he ...   \n",
      "2       \"Until you have a dog you don't understand wha...   \n",
      "3       \"Accidentally put grown-up toothpaste on my to...   \n",
      "4       Amy Cooper accused investment firm Franklin Te...   \n",
      "...                                                   ...   \n",
      "209522  Verizon Wireless and AT&T are already promotin...   \n",
      "209523  Afterward, Azarenka, more effusive with the pr...   \n",
      "209524  Leading up to Super Bowl XLVI, the most talked...   \n",
      "209525  CORRECTION: An earlier version of this story i...   \n",
      "209526  The five-time all-star center tore into his te...   \n",
      "\n",
      "                     authors        date  \\\n",
      "0       Carla K. Johnson, AP  2022-09-23   \n",
      "1             Mary Papenfuss  2022-09-23   \n",
      "2              Elyse Wanshel  2022-09-23   \n",
      "3           Caroline Bologna  2022-09-23   \n",
      "4             Nina Golgowski  2022-09-22   \n",
      "...                      ...         ...   \n",
      "209522      Reuters, Reuters  2012-01-28   \n",
      "209523                        2012-01-28   \n",
      "209524                        2012-01-28   \n",
      "209525                        2012-01-28   \n",
      "209526                        2012-01-28   \n",
      "\n",
      "                                       headline_tokenized  \\\n",
      "0       [over, 4, million, americans, roll, up, sleeve...   \n",
      "1       [american, airlines, flyer, charged, ,, banned...   \n",
      "2       [23, of, the, funniest, tweets, about, cats, a...   \n",
      "3       [the, funniest, tweets, from, parents, this, w...   \n",
      "4       [woman, who, called, cops, on, black, bird-wat...   \n",
      "...                                                   ...   \n",
      "209522  [rim, ceo, thorsten, heins, ', 'significant, '...   \n",
      "209523  [maria, sharapova, stunned, by, victoria, azar...   \n",
      "209524  [giants, over, patriots, ,, jets, over, colts,...   \n",
      "209525  [aldon, smith, arrested, :, 49ers, linebacker,...   \n",
      "209526  [dwight, howard, rips, teammates, after, magic...   \n",
      "\n",
      "                                        filtered_sentence  \n",
      "0       [4, americans, roll, sleeves, omicron-targeted...  \n",
      "1       [american, airlines, flyer, charged, banned, l...  \n",
      "2       [23, funniest, tweets, cats, dogs, week, sept,...  \n",
      "3          [funniest, tweets, parents, week, sept, 17-23]  \n",
      "4       [woman, called, cops, black, bird-watcher, los...  \n",
      "...                                                   ...  \n",
      "209522  [rim, ceo, thorsten, heins, significant, plans...  \n",
      "209523  [maria, sharapova, stunned, victoria, azarenka...  \n",
      "209524  [giants, patriots, jets, colts, improbable, su...  \n",
      "209525  [aldon, smith, arrested, 49ers, linebacker, bu...  \n",
      "209526  [dwight, howard, rips, teammates, magic, loss,...  \n",
      "\n",
      "[209527 rows x 8 columns]\n"
     ]
    }
   ],
   "source": [
    "filtered_sentences = []\n",
    "\n",
    "for sentence in df['headline_tokenized']:\n",
    "    filtered_sentence = []\n",
    "    for word in sentence:\n",
    "        if word not in stop_words:\n",
    "            word = word.strip(punctuation+' ')\n",
    "            filtered_sentence.append(word)\n",
    "    filtered_sentences.append(filtered_sentence)\n",
    "\n",
    "# Assign the filtered sentences back to a new column\n",
    "df['filtered_sentence'] = filtered_sentences\n",
    "\n",
    "print(df)"
   ]
  },
  {
   "cell_type": "code",
   "execution_count": 10,
   "id": "d1e0bea7",
   "metadata": {},
   "outputs": [
    {
     "name": "stdout",
     "output_type": "stream",
     "text": [
      "{'somewhat', 'unless', 'effect', \"hasn't\", 'dt', 'best', 'she', 'xo', 'dp', \"they'd\", 'ibid', \"mustn't\", 'consider', 'section', 'fill', 'ignored', \"we'd\", 'whos', 'been', 'off', 'ii', 'that', 'i4', 'themselves', 'nay', \"i've\", 'where', 'the', 'tr', 'largely', 'pn', \"shouldn't\", 'pc', \"won't\", 'av', 'towards', 'ups', 'see', 'causes', '[', 'according', 'ix', 'yourselves', 'happens', 'done', 'went', 'out', 'though', 'full', 'there', 'perhaps', 'has', 'for', 'im', 'pt', 'ut', 'wants', 'million', \"he's\", 'cg', 'fj', \"we've\", 'him', 'tries', 'youre', 'myself', 'took', 'sd', 't1', 'allows', 'previously', 'd', 'above', 'werent', 'ca', 'everywhere', 'fc', 'greetings', 'shan', 'fifth', 'regards', 'amount', 'third', '?', 'thered', 'xx', 'instead', 'xs', 'ok', 'were', 'oj', 'i7', 'rf', 'research-articl', 'tried', 'aw', 'empty', 'theres', 'affected', 'maybe', 'by', 'past', 'herself', 'nd', 'therefore', 'anywhere', 'ib', 'two', 'affecting', 'wouldn', 'around', 'fix', 'somewhere', 'usefully', 'am', 'ask', 'anyone', 'ui', 'h', \"isn't\", 'especially', 'qu', 'thereafter', 'bu', 'plus', 'ltd', 'cn', 'showed', 'ft', 'noone', \"it'll\", 'asking', 'self', 'giving', 'thin', \"let's\", 'pd', 'onto', 'vj', 'mustn', \"mightn't\", 'else', 'over', 'indicated', 'fire', 'ma', 'sorry', \"that'll\", 'arent', 'l', 'substantially', 'ij', 'mn', 'better', 'sl', 'under', 'before', '(', 'x1', 'ow', 'uj', 'thoroughly', \"you'd\", 'hed', \"'\", 'information', 'ss', 'entirely', 'ct', 'bk', 'in', 'b2', 'uk', 'such', 'given', 'same', 'few', 'ninety', 'several', 'present', 'i6', 'oc', 'tq', 'p2', \"he'll\", 'whats', 'pr', \"wouldn't\", 'likely', 'pf', 'know', 'could', 'similar', 'after', 'follows', 'relatively', 'because', 'while', 'vt', 'a4', 'have', 'who', 'another', 'tv', 'ever', 'u', 'aren', 'indicates', 'more', 'y', 'sent', 'dd', 'nl', 'move', 'similarly', 'cd', 'couldn', 'than', 'invention', 'q', 'ao', 'cv', 'thanks', 'reasonably', 'various', 'xt', 'ex', 'himself', 'eq', 'accordance', 'significantly', 'couldnt', 'neither', 'sa', 'volumtype', 'kg', 'call', 'words', 'followed', 'own', 'hello', '&', 'an', 'beside', \"it'd\", 'widely', 'along', 'eo', 'zero', 'hence', 'anyway', 'together', 'pp', 'they', 'into', 'mine', 'specifying', \"why's\", 'gi', 'ps', 'x', ':', 'em', 'pu', 'rr', 'si', 'of', 'upon', 'ourselves', 'somehow', 'unto', 'five', 'far', 'about', 'twenty', 'once', 'immediately', 'et-al', 'apparently', 'promptly', 'whether', 'ce', 'adj', 'du', 'fy', 'lately', 'presumably', 'somebody', 'thou', 'latter', \"c'mon\", 'whole', 'cz', 'said', 'secondly', 'results', 'v', 'et', 'um', 'dr', 'me', 'date', 'almost', 'iz', 'od', 'are', 'cannot', \"i'll\", \"wasn't\", 'sn', 've', \"weren't\", 'hh', 'able', 'provides', 'ju', 'sup', 'bt', 'indeed', 'fl', \"couldn't\", \"i'd\", 'thousand', 'meanwhile', 'regarding', 'through', 'tf', 'clearly', 'mightn', 'why', 'away', 'latterly', \"they've\", 'meantime', 'pm', 'really', 'hi', 'sub', 'd2', 'miss', 'namely', 'yourself', 'right', '_', ',', 'throughout', 'would', 'o', 'us', 'below', 'amoungst', 'near', 'mill', \"didn't\", 'wont', 'appropriate', 'dj', 'sy', 'theirs', 'think', 'tt', 'xv', \"t's\", 'every', 'los', 'se', 'm', 'bd', 'sec', 'take', 'further', 'begins', 'seen', 'youd', 'predominantly', 'arise', 'sp', 'whence', 'no', 'fo', 'be', 'means', 'looks', 'brief', 'un', 'a2', 'rv', 'these', 'four', 'becoming', 'vols', 't2', 'fify', 'front', 'everybody', '`', 'oi', 'ri', 'itself', 'hereupon', 'gs', 'however', 'specifically', 'aside', 'ge', 'knows', 'id', 'cq', 'ones', 'hasnt', 'bill', 'need', 'bp', 'viz', 'sincere', 'needn', '{', 'cc', 'sm', 'lt', 'first', 'yt', 'oo', 'hundred', 'way', 'among', \"should've\", 'potentially', 'show', 'amongst', 'little', 'trying', 'them', 'ci', 'va', 'just', 'mostly', 'oh', 'ra', 'mt', 'kj', \"she'd\", \"there'll\", \"she'll\", 'theyre', 'dc', 'announce', 'its', 'til', 'obviously', 'eleven', 'f', 'former', 'then', 'xf', 'yes', 'seriously', 'yr', 'shall', 're', 'wasn', 'p', 'thank', 'necessary', 'allow', 'against', ';', 'eight', 'back', 'howbeit', 'a1', 'their', 'or', 'thorough', '0o', 'from', 'very', 'anyhow', 'nor', 'ro', 'alone', 'certainly', 'thoughh', 'unfortunately', 'index', 'thanx', 'whomever', 'is', 'p3', 'came', '6b', 'anybody', 'contain', 's', \"what'll\", 'unlikely', 'nine', 'tx', 'ep', '@', 'shouldn', 'f2', 'unlike', 'hid', '*', 'regardless', 'ea', \"shan't\", 'sure', 'approximately', 'par', 'sf', 'dk', 'anyways', 'lj', 'even', 'og', 'so', 'es', \"when's\", 'rj', 'since', 'currently', 'detail', 'rm', 'ih', '<', 'but', 'pi', 'twelve', 'between', 'hasn', 'available', 'eighty', 'inasmuch', 'may', 'shows', '~', 'beginnings', 'might', 'next', \"needn't\", \"she's\", 'give', \"they'll\", 'others', 'con', \"don't\", 'nowhere', 'whither', 'de', 'if', 'here', 'cl', 'thru', 'containing', 'bn', 'ay', 'i', 'until', 'showns', 'tends', 'ff', 'didn', 'on', 'sometime', 'ny', 'goes', 'ke', 'ga', 'behind', 'pages', 'qj', '0s', 'resulted', \"you've\", 'whereas', 'mean', 'rh', 'was', 'will', 'certain', 'immediate', 'per', \"we're\", 'est', 'ys', 'liked', 'considering', '$', 'inward', 'ur', 'bottom', 'significant', \"there's\", 'eu', 'also', 'obtained', 'saying', 'usefulness', 'do', 'owing', 'zz', 'cx', 'la', 'appreciate', 'td', 'changes', 'ba', 'rl', 'nobody', 'page', 'br', \"here's\", 'come', 'les', 'ic', 'six', 'hopefully', 'xk', 'ours', 'possible', 'normally', 'enough', 'later', 'b', 'bs', 'whose', 'you', 'yj', 'except', 'ax', 'different', 'e3', 'bj', \"you're\", 'bc', 'wish', 'c2', 't3', '/', 'besides', 'proud', \"can't\", 'rs', 'therein', 'di', 'www', 'itd', 'om', 'ir', 'isn', 'resulting', 'x3', 'put', 'e', 'ho', 'tj', 'suggest', 'being', 'indicate', 'let', 'xi', 'now', 'primarily', 'both', 'does', \"who's\", 'cit', '%', 'doing', 'thickv', 't', 'used', 'ms', 'it', 'rather', 'il', 'a', 'ten', 'help', \"he'd\", 'thereto', 'sufficiently', 'seven', '=', 'mrs', 'corresponding', 'ef', 'biol', 'tm', 'tl', 'described', 'ag', '^', 'ru', 'try', 'ref', 'yl', \"it's\", 'ej', 'research', 'slightly', 'how', 'au', '3d', 'beyond', 'xl', 's2', 'willing', 'ac', 'mu', 'want', 'nevertheless', 'hither', \"there've\", 'either', 'j', 'already', 'often', 'go', 'within', '6o', 'bx', 'related', 'oz', 'y2', 'wherever', 'make', 'getting', 'only', 'pe', 'pq', 'fr', 'example', 'cr', 'seems', 'wi', 'look', 'specify', 'ng', 'less', 'ln', 'taking', 'st', 'least', 'serious', 'z', 'n', 'other', 'ought', 'outside', 'actually', 'whereupon', 'hes', 'forth', 'gave', 'rq', 'b1', 'poorly', 'otherwise', 'pagecount', 'gives', 'vol', 'accordingly', 'ph', 'ad', 'gr', 'old', 'twice', 'something', 'zi', 'recently', 'lb', 'jr', 'th', 'believe', 'ey', 'this', 'fs', 'w', 'nc', 'm2', 'always', 'km', 'cj', 'hu', 'found', 'wherein', 'won', 'mainly', 'wasnt', 'que', 'home', 'h3', 'cry', 'shes', 'should', 'as', 'shown', 'le', 'ry', 'insofar', 'affects', 'hardly', 'when', 'aj', 'lf', 'name', 'eg', 'auth', 'beginning', 'whoever', 'el', 'nn', 'did', 'tp', 'apart', 'thus', 'placed', 'tn', 'sometimes', 'u201d', 'he', 'novel', 'vd', 'whenever', 'fu', 'specified', 'fn', 'dx', 'rd', 'exactly', 'dy', 'which', 'herein', 'ah', 'wonder', 'nr', 'usually', 'ap', 'elsewhere', 'soon', 'second', 'someone', 'e2', 'toward', 'wo', 'cm', 'please', 'associated', 'en', 'selves', 'cause', 'act', '.', 'vu', '\\\\', 'hereby', 'com', 'one', 'noted', 'some', 'hereafter', 'respectively', 'any', 'end', 'find', 'nos', 'ae', 'everything', 'sz', 'can', 'awfully', 'becomes', 'i3', 'stop', 'c', 'tb', 'af', 'ue', 'pl', 'ev', 'at', 'line', 'nothing', 'particular', 'recent', 'again', 'iq', 'quite', 'lets', '>', 'lc', 'non', 'anything', \"hadn't\", 'omitted', 'c1', 'wouldnt', 'ia', 'seemed', 'abst', 'hy', 'never', 'nearly', 'those', 'well', 'value', \"doesn't\", 'strongly', 'ob', 'oq', 'edu', ')', 'most', 'py', 'wheres', 'i2', 'l2', 'te', 'vs', 'must', 'na', 'gy', 'down', 'http', 'ie', 'fa', 'although', 'b3', 'ol', \"aren't\", 'ls', 'po', 'tip', 'gotten', '\"', 'much', 'uses', 'jt', '+', 'haven', 'xn', 'doesn', 'thereof', 'bl', 'cp', 'makes', 'appear', 'df', 'still', 'sc', 'particularly', 'whod', \"where's\", 'thats', 'a3', 'nj', 'begin', 'ord', 'say', 'n2', 'r', '}', 'ei', \"we'll\", 'had', 'ed', '-', 'gets', 'three', 'and', 'whom', 'comes', 'sixty', 'dl', 'co', \"a's\", 'fifteen', 'i8', 'made', '|', 'ot', 'p1', 'c3', 'sq', 'weren', 'gone', \"haven't\", 'what', 'became', 'lr', 'hj', ']', 'keeps', 'having', 'none', 'last', 'ox', 'mr', 'sj', \"how's\", 'necessarily', 'mg', 'mo', '3b', 'cu', 'his', 'inc', 'hs', \"that's\", 'etc', 'seeming', 'afterwards', \"what's\", 'lo', 'ou', 'saw', 'whim', 'hadn', 'new', 'therere', 'system', 'ending', 'to', 'wa', 'world', 'says', 'er', 'thereby', 'ch', 'ns', 'somethan', 'many', 'g', 'os', 'pk', 'furthermore', 'formerly', 'io', 'da', 'forty', 'ran', 'known', 'following', 'iy', 'top', 'rn', 'seem', 'importance', 'using', 'moreover', 'll', 'okay', \"i'm\", 'tc', 'interest', 'cf', 'yet', 'well-b', 'nt', 'everyone', 'ts', 'possibly', 'lest', 'going', 'use', 'whatever', 'during', \"that've\", \"you'll\", 'hr', 'keep', 'yours', 'we', 'wed', 'ain', \"c's\", 'become', '#', 'like', 'sr', 'up', 'beforehand', 'fi', 'her', 'k', 'gl', 'ab', 'hers', 'probably', 'needs', 'all', 'theyd', 'run', 'each', 'uo', 'shed', 'jj', 'ne', 'ig', 'inner', 'too', 'thereupon', 'op', 'h2', 'course', 'anymore', 'without', 'ar', 'readily', 'my', 'not', 'briefly', 'pj', 'cant', 'qv', 'ni', 'x2', \"they're\", 'ti', 'rt', 'quickly', 'vq', 'al', 'ee', 'part', 'with', 'successfully', 'refs', 'taken', 'js', 'cs', 'concerning', 'obtain', 'ko', 'useful', 'ip', 'sensible', 'don', 'pas', 'added', 'r2', 'az', 'iv', 'seeing', 'merely', \"ain't\", 'got', 'despite', 'your', 'throug', 'ml', 'truly', 'mug', 'vo', 'oa', 'important', '3a', '!', 'due', 'overall', 'welcome', 'ec', \"who'll\", 'via', 'looking', 'across', 'get', 'thence', 'our', 'xj', 'bi', 'describe', 'downwards', 'side', 'ds', 'heres', 'definitely', 'nonetheless', 'cy', 'rc', 'whereafter', 'gj', 'whereby', 'consequently', 'contains', 'tell', 'kept'}\n"
     ]
    }
   ],
   "source": [
    "print(stop_words)"
   ]
  },
  {
   "cell_type": "code",
   "execution_count": null,
   "id": "2da260b6",
   "metadata": {},
   "outputs": [],
   "source": []
  },
  {
   "cell_type": "code",
   "execution_count": 11,
   "id": "6267b443",
   "metadata": {},
   "outputs": [],
   "source": [
    "# print(stopwords)"
   ]
  },
  {
   "cell_type": "code",
   "execution_count": null,
   "id": "9abbbe95",
   "metadata": {},
   "outputs": [],
   "source": []
  }
 ],
 "metadata": {
  "kernelspec": {
   "display_name": "Python 3 (ipykernel)",
   "language": "python",
   "name": "python3"
  },
  "language_info": {
   "codemirror_mode": {
    "name": "ipython",
    "version": 3
   },
   "file_extension": ".py",
   "mimetype": "text/x-python",
   "name": "python",
   "nbconvert_exporter": "python",
   "pygments_lexer": "ipython3",
   "version": "3.9.12"
  }
 },
 "nbformat": 4,
 "nbformat_minor": 5
}
