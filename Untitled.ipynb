{
 "cells": [
  {
   "cell_type": "code",
   "execution_count": 2,
   "id": "58bc325f",
   "metadata": {
    "scrolled": true
   },
   "outputs": [
    {
     "name": "stderr",
     "output_type": "stream",
     "text": [
      "[nltk_data] Downloading package punkt to /Users/kang/nltk_data...\n",
      "[nltk_data]   Package punkt is already up-to-date!\n",
      "[nltk_data] Downloading package stopwords to /Users/kang/nltk_data...\n",
      "[nltk_data]   Unzipping corpora/stopwords.zip.\n"
     ]
    }
   ],
   "source": [
    "import json\n",
    "import pandas as pd\n",
    "from nltk.corpus import stopwords\n",
    "from nltk.tokenize import word_tokenize\n",
    "import nltk\n",
    "nltk.download('punkt')\n",
    "nltk.download('stopwords')\n",
    "stop_words = set(stopwords.words('english'))"
   ]
  },
  {
   "cell_type": "code",
   "execution_count": 3,
   "id": "84bb3b0f",
   "metadata": {},
   "outputs": [
    {
     "name": "stderr",
     "output_type": "stream",
     "text": [
      "IOPub data rate exceeded.\n",
      "The notebook server will temporarily stop sending output\n",
      "to the client in order to avoid crashing it.\n",
      "To change this limit, set the config variable\n",
      "`--NotebookApp.iopub_data_rate_limit`.\n",
      "\n",
      "Current values:\n",
      "NotebookApp.iopub_data_rate_limit=1000000.0 (bytes/sec)\n",
      "NotebookApp.rate_limit_window=3.0 (secs)\n",
      "\n"
     ]
    }
   ],
   "source": [
    "data = []\n",
    "with open('News_Category_Dataset_v3.json', 'r') as f:\n",
    "    for line in f:\n",
    "        data.append(json.loads(line))\n",
    "\n",
    "print(data)"
   ]
  },
  {
   "cell_type": "code",
   "execution_count": 4,
   "id": "b624f368",
   "metadata": {},
   "outputs": [],
   "source": [
    "# df = pd.read_json('News_Category_Dataset_v3.json')\n",
    "df = pd.DataFrame(data)"
   ]
  },
  {
   "cell_type": "code",
   "execution_count": 5,
   "id": "51ac010a",
   "metadata": {},
   "outputs": [
    {
     "name": "stdout",
     "output_type": "stream",
     "text": [
      "                                                     link  \\\n",
      "0       https://www.huffpost.com/entry/covid-boosters-...   \n",
      "1       https://www.huffpost.com/entry/american-airlin...   \n",
      "2       https://www.huffpost.com/entry/funniest-tweets...   \n",
      "3       https://www.huffpost.com/entry/funniest-parent...   \n",
      "4       https://www.huffpost.com/entry/amy-cooper-lose...   \n",
      "...                                                   ...   \n",
      "209522  https://www.huffingtonpost.com/entry/rim-ceo-t...   \n",
      "209523  https://www.huffingtonpost.com/entry/maria-sha...   \n",
      "209524  https://www.huffingtonpost.com/entry/super-bow...   \n",
      "209525  https://www.huffingtonpost.com/entry/aldon-smi...   \n",
      "209526  https://www.huffingtonpost.com/entry/dwight-ho...   \n",
      "\n",
      "                                                 headline   category  \\\n",
      "0       Over 4 Million Americans Roll Up Sleeves For O...  U.S. NEWS   \n",
      "1       American Airlines Flyer Charged, Banned For Li...  U.S. NEWS   \n",
      "2       23 Of The Funniest Tweets About Cats And Dogs ...     COMEDY   \n",
      "3       The Funniest Tweets From Parents This Week (Se...  PARENTING   \n",
      "4       Woman Who Called Cops On Black Bird-Watcher Lo...  U.S. NEWS   \n",
      "...                                                   ...        ...   \n",
      "209522  RIM CEO Thorsten Heins' 'Significant' Plans Fo...       TECH   \n",
      "209523  Maria Sharapova Stunned By Victoria Azarenka I...     SPORTS   \n",
      "209524  Giants Over Patriots, Jets Over Colts Among  M...     SPORTS   \n",
      "209525  Aldon Smith Arrested: 49ers Linebacker Busted ...     SPORTS   \n",
      "209526  Dwight Howard Rips Teammates After Magic Loss ...     SPORTS   \n",
      "\n",
      "                                        short_description  \\\n",
      "0       Health experts said it is too early to predict...   \n",
      "1       He was subdued by passengers and crew when he ...   \n",
      "2       \"Until you have a dog you don't understand wha...   \n",
      "3       \"Accidentally put grown-up toothpaste on my to...   \n",
      "4       Amy Cooper accused investment firm Franklin Te...   \n",
      "...                                                   ...   \n",
      "209522  Verizon Wireless and AT&T are already promotin...   \n",
      "209523  Afterward, Azarenka, more effusive with the pr...   \n",
      "209524  Leading up to Super Bowl XLVI, the most talked...   \n",
      "209525  CORRECTION: An earlier version of this story i...   \n",
      "209526  The five-time all-star center tore into his te...   \n",
      "\n",
      "                     authors        date  \n",
      "0       Carla K. Johnson, AP  2022-09-23  \n",
      "1             Mary Papenfuss  2022-09-23  \n",
      "2              Elyse Wanshel  2022-09-23  \n",
      "3           Caroline Bologna  2022-09-23  \n",
      "4             Nina Golgowski  2022-09-22  \n",
      "...                      ...         ...  \n",
      "209522      Reuters, Reuters  2012-01-28  \n",
      "209523                        2012-01-28  \n",
      "209524                        2012-01-28  \n",
      "209525                        2012-01-28  \n",
      "209526                        2012-01-28  \n",
      "\n",
      "[209527 rows x 6 columns]\n"
     ]
    }
   ],
   "source": [
    "print(df)"
   ]
  },
  {
   "cell_type": "code",
   "execution_count": 6,
   "id": "69461883",
   "metadata": {},
   "outputs": [
    {
     "name": "stdout",
     "output_type": "stream",
     "text": [
      "['U.S. NEWS' 'COMEDY' 'PARENTING' 'WORLD NEWS' 'CULTURE & ARTS' 'TECH'\n",
      " 'SPORTS' 'ENTERTAINMENT' 'POLITICS' 'WEIRD NEWS' 'ENVIRONMENT'\n",
      " 'EDUCATION' 'CRIME' 'SCIENCE' 'WELLNESS' 'BUSINESS' 'STYLE & BEAUTY'\n",
      " 'FOOD & DRINK' 'MEDIA' 'QUEER VOICES' 'HOME & LIVING' 'WOMEN'\n",
      " 'BLACK VOICES' 'TRAVEL' 'MONEY' 'RELIGION' 'LATINO VOICES' 'IMPACT'\n",
      " 'WEDDINGS' 'COLLEGE' 'PARENTS' 'ARTS & CULTURE' 'STYLE' 'GREEN' 'TASTE'\n",
      " 'HEALTHY LIVING' 'THE WORLDPOST' 'GOOD NEWS' 'WORLDPOST' 'FIFTY' 'ARTS'\n",
      " 'DIVORCE']\n"
     ]
    }
   ],
   "source": [
    "distinct_values = df['category'].unique()\n",
    "\n",
    "print(distinct_values)"
   ]
  },
  {
   "cell_type": "code",
   "execution_count": 7,
   "id": "1e9f877b",
   "metadata": {},
   "outputs": [],
   "source": [
    "# stop words\n",
    "# tokenize\n",
    "# machine learning\n",
    "# ..."
   ]
  },
  {
   "cell_type": "code",
   "execution_count": 8,
   "id": "ef153592",
   "metadata": {},
   "outputs": [],
   "source": [
    "df['headline_tokenized'] = df['headline'].apply(word_tokenize)"
   ]
  },
  {
   "cell_type": "code",
   "execution_count": 9,
   "id": "e48d8d61",
   "metadata": {},
   "outputs": [
    {
     "data": {
      "text/plain": [
       "0         [Health, experts, said, it, is, too, early, to...\n",
       "1         [He, was, subdued, by, passengers, and, crew, ...\n",
       "2         [\"Until, you, have, a, dog, you, don't, unders...\n",
       "3         [\"Accidentally, put, grown-up, toothpaste, on,...\n",
       "4         [Amy, Cooper, accused, investment, firm, Frank...\n",
       "                                ...                        \n",
       "209522    [Verizon, Wireless, and, AT&T, are, already, p...\n",
       "209523    [Afterward,, Azarenka,, more, effusive, with, ...\n",
       "209524    [Leading, up, to, Super, Bowl, XLVI,, the, mos...\n",
       "209525    [CORRECTION:, An, earlier, version, of, this, ...\n",
       "209526    [The, five-time, all-star, center, tore, into,...\n",
       "Name: short_description, Length: 209527, dtype: object"
      ]
     },
     "execution_count": 9,
     "metadata": {},
     "output_type": "execute_result"
    }
   ],
   "source": [
    "df['short_description'].str.split()"
   ]
  },
  {
   "cell_type": "code",
   "execution_count": 10,
   "id": "42946e22",
   "metadata": {},
   "outputs": [
    {
     "name": "stdout",
     "output_type": "stream",
     "text": [
      "                                                     link  \\\n",
      "0       https://www.huffpost.com/entry/covid-boosters-...   \n",
      "1       https://www.huffpost.com/entry/american-airlin...   \n",
      "2       https://www.huffpost.com/entry/funniest-tweets...   \n",
      "3       https://www.huffpost.com/entry/funniest-parent...   \n",
      "4       https://www.huffpost.com/entry/amy-cooper-lose...   \n",
      "...                                                   ...   \n",
      "209522  https://www.huffingtonpost.com/entry/rim-ceo-t...   \n",
      "209523  https://www.huffingtonpost.com/entry/maria-sha...   \n",
      "209524  https://www.huffingtonpost.com/entry/super-bow...   \n",
      "209525  https://www.huffingtonpost.com/entry/aldon-smi...   \n",
      "209526  https://www.huffingtonpost.com/entry/dwight-ho...   \n",
      "\n",
      "                                                 headline   category  \\\n",
      "0       Over 4 Million Americans Roll Up Sleeves For O...  U.S. NEWS   \n",
      "1       American Airlines Flyer Charged, Banned For Li...  U.S. NEWS   \n",
      "2       23 Of The Funniest Tweets About Cats And Dogs ...     COMEDY   \n",
      "3       The Funniest Tweets From Parents This Week (Se...  PARENTING   \n",
      "4       Woman Who Called Cops On Black Bird-Watcher Lo...  U.S. NEWS   \n",
      "...                                                   ...        ...   \n",
      "209522  RIM CEO Thorsten Heins' 'Significant' Plans Fo...       TECH   \n",
      "209523  Maria Sharapova Stunned By Victoria Azarenka I...     SPORTS   \n",
      "209524  Giants Over Patriots, Jets Over Colts Among  M...     SPORTS   \n",
      "209525  Aldon Smith Arrested: 49ers Linebacker Busted ...     SPORTS   \n",
      "209526  Dwight Howard Rips Teammates After Magic Loss ...     SPORTS   \n",
      "\n",
      "                                        short_description  \\\n",
      "0       Health experts said it is too early to predict...   \n",
      "1       He was subdued by passengers and crew when he ...   \n",
      "2       \"Until you have a dog you don't understand wha...   \n",
      "3       \"Accidentally put grown-up toothpaste on my to...   \n",
      "4       Amy Cooper accused investment firm Franklin Te...   \n",
      "...                                                   ...   \n",
      "209522  Verizon Wireless and AT&T are already promotin...   \n",
      "209523  Afterward, Azarenka, more effusive with the pr...   \n",
      "209524  Leading up to Super Bowl XLVI, the most talked...   \n",
      "209525  CORRECTION: An earlier version of this story i...   \n",
      "209526  The five-time all-star center tore into his te...   \n",
      "\n",
      "                     authors        date  \\\n",
      "0       Carla K. Johnson, AP  2022-09-23   \n",
      "1             Mary Papenfuss  2022-09-23   \n",
      "2              Elyse Wanshel  2022-09-23   \n",
      "3           Caroline Bologna  2022-09-23   \n",
      "4             Nina Golgowski  2022-09-22   \n",
      "...                      ...         ...   \n",
      "209522      Reuters, Reuters  2012-01-28   \n",
      "209523                        2012-01-28   \n",
      "209524                        2012-01-28   \n",
      "209525                        2012-01-28   \n",
      "209526                        2012-01-28   \n",
      "\n",
      "                                       headline_tokenized  \\\n",
      "0       [Over, 4, Million, Americans, Roll, Up, Sleeve...   \n",
      "1       [American, Airlines, Flyer, Charged, ,, Banned...   \n",
      "2       [23, Of, The, Funniest, Tweets, About, Cats, A...   \n",
      "3       [The, Funniest, Tweets, From, Parents, This, W...   \n",
      "4       [Woman, Who, Called, Cops, On, Black, Bird-Wat...   \n",
      "...                                                   ...   \n",
      "209522  [RIM, CEO, Thorsten, Heins, ', 'Significant, '...   \n",
      "209523  [Maria, Sharapova, Stunned, By, Victoria, Azar...   \n",
      "209524  [Giants, Over, Patriots, ,, Jets, Over, Colts,...   \n",
      "209525  [Aldon, Smith, Arrested, :, 49ers, Linebacker,...   \n",
      "209526  [Dwight, Howard, Rips, Teammates, After, Magic...   \n",
      "\n",
      "                                        filtered_sentence  \n",
      "0       [Over, 4, Million, Americans, Roll, Up, Sleeve...  \n",
      "1       [American, Airlines, Flyer, Charged, ,, Banned...  \n",
      "2       [23, Of, The, Funniest, Tweets, About, Cats, A...  \n",
      "3       [The, Funniest, Tweets, From, Parents, This, W...  \n",
      "4       [Woman, Who, Called, Cops, On, Black, Bird-Wat...  \n",
      "...                                                   ...  \n",
      "209522  [RIM, CEO, Thorsten, Heins, ', 'Significant, '...  \n",
      "209523  [Maria, Sharapova, Stunned, By, Victoria, Azar...  \n",
      "209524  [Giants, Over, Patriots, ,, Jets, Over, Colts,...  \n",
      "209525  [Aldon, Smith, Arrested, :, 49ers, Linebacker,...  \n",
      "209526  [Dwight, Howard, Rips, Teammates, After, Magic...  \n",
      "\n",
      "[209527 rows x 8 columns]\n"
     ]
    }
   ],
   "source": [
    "filtered_sentences = []\n",
    "\n",
    "for sentence in df['headline_tokenized']:\n",
    "    filtered_sentence = []\n",
    "    for word in sentence:\n",
    "        if word not in stop_words:\n",
    "            filtered_sentence.append(word)\n",
    "    filtered_sentences.append(filtered_sentence)\n",
    "\n",
    "# Assign the filtered sentences back to a new column\n",
    "df['filtered_sentence'] = filtered_sentences\n",
    "\n",
    "print(df)"
   ]
  },
  {
   "cell_type": "code",
   "execution_count": null,
   "id": "0b6df26f",
   "metadata": {},
   "outputs": [],
   "source": []
  }
 ],
 "metadata": {
  "kernelspec": {
   "display_name": "Python 3 (ipykernel)",
   "language": "python",
   "name": "python3"
  },
  "language_info": {
   "codemirror_mode": {
    "name": "ipython",
    "version": 3
   },
   "file_extension": ".py",
   "mimetype": "text/x-python",
   "name": "python",
   "nbconvert_exporter": "python",
   "pygments_lexer": "ipython3",
   "version": "3.9.12"
  }
 },
 "nbformat": 4,
 "nbformat_minor": 5
}
